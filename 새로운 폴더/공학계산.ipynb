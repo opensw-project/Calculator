import ast
import math

class Calculator(ast.NodeVisitor):
 # 지원하는 연산자와 함수를 정의합니다.
    operators = {
 ast.Add: lambda a, b: a + b,
 ast.Sub: lambda a, b: a - b,
 ast.Mult: lambda a, b: a * b,
 ast.Div: lambda a, b: a / b,
 ast.Mod: lambda a, b: a % b,
 ast.Pow: lambda a, b: a ** b,
    }
    functions = {
 "sin": math.sin,
 "cos": math.cos,
 "tan": math.tan,
 "asin": math.asin,
 "acos": math.acos,
 "atan": math.atan,
 "exp": math.exp,
 "log": math.log,
 "log10": math.log10,
 "sqrt": math.sqrt,
 "pi": math.pi,
 "e": math.e,
    }

 def __init__(self):
        self.stack = []

 def visit_Num(self, node):
        self.stack.append(node.n)

 def visit_NameConstant(self, node):
        self.stack.append(node.value)

 def visit_BinOp(self, node):
        self.visit(node.left)
        self.visit(node.right)
        right = self.stack.pop()
        left = self.stack.pop()
 op = self.operators[type(node.op)]
        self.stack.append(op(left, right))

 def visit_UnaryOp(self, node):
        self.visit(node.operand)
        operand = self.stack.pop()
 op = self.operators[type(node.op)]
        self.stack.append(op(operand))

 def visit_Call(self, node):
        args = []
 for arg in node.args:
            self.visit(arg)
            args.append(self.stack.pop())
        args.reverse()
 func = self.functions[node.func.id]
        self.stack.append(func(*args))

 def calculate(self, expression):
        self.stack = []
 node = ast.parse(expression, mode="eval")
        self.visit(node.body)
 return self.stack.pop()

calculator = Calculator()

while True:
 expression = input("수식을 입력하세요: ")
 try:
        result = calculator.calculate(expression)
 print("결과:", result)
 except (NameError, TypeError):
 print("잘못된 수식입니다.")
 except ZeroDivisionError:
 print("0으로 나눌 수 없습니다.")
