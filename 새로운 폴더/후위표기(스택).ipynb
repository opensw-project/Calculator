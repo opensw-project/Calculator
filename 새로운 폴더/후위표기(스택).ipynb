import sys
from PyQt5.QtWidgets import *
from PyQt5 import uic

form_class = uic.loadUiType("form.ui")[0]

class Stack(list):
	def __init__(self):
		self.stack = []

	def push(self, data):
		self.stack.append(data)

	def pop(self):
		if self.is_empty():
			return -1
		return self.stack.pop()

	def length(self):
		return len(self.stack)

	def peek(self):
		return self.stack[-1]

	def is_empty(self):
		if len(self.stack) == 0:
			return True
		return False
    
    class Calculator:
	def __init__(self, org_exp):
		self.org_exp = org_exp.replace(' ', '')
		self.postfix_exp = None

	def get_weight(self, oprt):
		if oprt == '*' or oprt == '/':
			return 8
		elif oprt == '+' or oprt == '-':
			return 7
		elif oprt == '(':
			return 9
		else:
			return -1

	def convert_to_postfix(self):
		exp_list = []
		oprt_stack = Stack()
		cnt = 0
		temp = ""

		for ch in self.org_exp:
			if ch.isdigit():
				temp = temp + ch
				#exp_list.append(ch)
				#print(exp_list)
			else:
				if ch == '(' or oprt_stack.is_empty():
					oprt_stack.push(ch)
					print("oprt_stack_push %c" % ch)
					exp_list.append(temp)
					print(exp_list)
					temp = ""
				elif ch == ')':
					op = oprt_stack.pop()
					while op != '(':
						exp_list.append(op)
						op = oprt_stack.pop()
				elif self.get_weight(ch) > \
                    self.get_weight(oprt_stack.peek()):
					oprt_stack.push(ch)
					print("oprt_stack_push %c" % ch)
					exp_list.append(temp)
					print(exp_list)
					temp = ""
				elif ch == '.':
					temp = temp + ch
					print("I'm dot")
				else:
					while oprt_stack and self.get_weight(ch) <=\
                          self.get_weight(oprt_stack.peek()):
						exp_list.append(oprt_stack.pop())
					oprt_stack.push(ch)
					print("oprt_stack_push %c" % ch)
					exp_list.append(temp)
					print(exp_list)
					temp = ""
		print("oprt_stack count %d" % oprt_stack.length())
		if temp != "":
			exp_list.append(temp)
		while oprt_stack.length() > 0:
			cnt = cnt + 1
			print("oprt_stack_pop count %d" % cnt)
			exp_list.append(oprt_stack.pop())
		#self.postfix_exp = ''.join(exp_list)
		self.postfix_exp = exp_list
		print(exp_list)
		print(self.postfix_exp)

	def get_postfix_exp(self):
		if not self.postfix_exp:
			self.convert_to_postfix()

		return self.postfix_exp

	def calc_two_oprd(self, oprd1, oprd2, oprt):
		if oprt == '+':
			print("run '+'")
			return oprd1 + oprd2
		elif oprt == '-':
			print("run '-'")
			return oprd1 - oprd2
		elif oprt == '*':
			print("run '*'")
			return oprd1 * oprd2
		elif oprt == '/':
			print("run '/'")
			return oprd1 // oprd2

	def calculate(self):
		oprd_stack = Stack()

		for ch in self.postfix_exp:
			if ch.isdigit():
				oprd_stack.push(int(ch))
			else:
				oprd2 = oprd_stack.pop()
				oprd1 = oprd_stack.pop()
				oprd_stack.push(self.calc_two_oprd(oprd1, oprd2, ch))
		return oprd_stack.pop()
    
    class CalcWindowClass(QMainWindow, form_class):
	def __init__(self):
		super().__init__()
		self.setupUi(self)

		self.pb_num0.clicked.connect(self.num_0_clicked)
		self.pb_num1.clicked.connect(self.num_1_clicked)
		self.pb_num2.clicked.connect(self.num_2_clicked)
		self.pb_num3.clicked.connect(self.num_3_clicked)
		self.pb_num4.clicked.connect(self.num_4_clicked)
		self.pb_num5.clicked.connect(self.num_5_clicked)
		self.pb_num6.clicked.connect(self.num_6_clicked)
		self.pb_num7.clicked.connect(self.num_7_clicked)
		self.pb_num8.clicked.connect(self.num_8_clicked)
		self.pb_num9.clicked.connect(self.num_9_clicked)

		self.pb_dot.clicked.connect(self.dot_clicked)
		self.pb_add.clicked.connect(self.add_clicked)
		self.pb_sub.clicked.connect(self.sub_clicked)
		self.pb_mul.clicked.connect(self.mul_clicked)
		self.pb_div.clicked.connect(self.div_clicked)
		self.pb_clear.clicked.connect(self.clear_clicked)
		self.pb_back.clicked.connect(self.back_clicked)

		self.pb_eq.clicked.connect(self.result_clicked)

		self.ret_string = ""

	def add_result(self, s):
		self.ret_string = self.ret_string + s

	def back_clicked(self):
		l = len(self.ret_string)
		self.ret_string = self.ret_string[:l-1]
		self.txtResult.setText(self.ret_string)

	def num_0_clicked(self):
		self.add_result("0")
		self.txtResult.setText(self.ret_string)

	def num_1_clicked(self):
		self.add_result("1")
		self.txtResult.setText(self.ret_string)

	def num_2_clicked(self):
		self.add_result("2")
		self.txtResult.setText(self.ret_string)

	def num_3_clicked(self):
		self.add_result("3")
		self.txtResult.setText(self.ret_string)

	def num_4_clicked(self):
		self.add_result("4")
		self.txtResult.setText(self.ret_string)

	def num_5_clicked(self):
		self.add_result("5")
		self.txtResult.setText(self.ret_string)

	def num_6_clicked(self):
		self.add_result("6")
		self.txtResult.setText(self.ret_string)

	def num_7_clicked(self):
		self.add_result("7")
		self.txtResult.setText(self.ret_string)

	def num_8_clicked(self):
		self.add_result("8")
		self.txtResult.setText(self.ret_string)

	def num_9_clicked(self):
		self.add_result("9")
		self.txtResult.setText(self.ret_string)

	def dot_clicked(self):
		self.add_result(".")
		self.txtResult.setText(self.ret_string)

	def add_clicked(self):
		self.add_result("+")
		self.txtResult.setText(self.ret_string)

	def sub_clicked(self):
		self.add_result("-")
		self.txtResult.setText(self.ret_string)

	def mul_clicked(self):
		self.add_result("*")
		self.txtResult.setText(self.ret_string)

	def div_clicked(self):
		self.add_result("/")
		self.txtResult.setText(self.ret_string)

	def clear_clicked(self):
		self.ret_string = ""
		self.txtResult.clear()

	def result_clicked(self):
		calc = Calculator(self.ret_string)
		calc.get_postfix_exp()
		result = calc.calculate()
		self.add_result("=")
		self.add_result(str(result))
		self.txtResult.setText(self.ret_string)
    
    if __name__ == "__main__":
	app = QApplication(sys.argv)

	myWindow = CalcWindowClass()

	myWindow.show()

	app.exec_()
